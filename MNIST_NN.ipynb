{
  "nbformat": 4,
  "nbformat_minor": 0,
  "metadata": {
    "colab": {
      "provenance": [],
      "authorship_tag": "ABX9TyPnkzSh8dTTlgTi6r26hKNo",
      "include_colab_link": true
    },
    "kernelspec": {
      "name": "python3",
      "display_name": "Python 3"
    },
    "language_info": {
      "name": "python"
    }
  },
  "cells": [
    {
      "cell_type": "markdown",
      "metadata": {
        "id": "view-in-github",
        "colab_type": "text"
      },
      "source": [
        "<a href=\"https://colab.research.google.com/github/AugustasStankunas/MNIST-digit-recognition/blob/main/MNIST_NN.ipynb\" target=\"_parent\"><img src=\"https://colab.research.google.com/assets/colab-badge.svg\" alt=\"Open In Colab\"/></a>"
      ]
    },
    {
      "cell_type": "code",
      "execution_count": 74,
      "metadata": {
        "id": "Bl8MTyGvtc72"
      },
      "outputs": [],
      "source": [
        "import torch\n",
        "from torch import nn\n",
        "from torch.utils.data import DataLoader\n",
        "from torchvision import datasets\n",
        "from torchvision.transforms import ToTensor\n",
        "import matplotlib.pyplot as plt"
      ]
    },
    {
      "cell_type": "code",
      "source": [
        "# Download training data from open datasets.\n",
        "training_data = datasets.MNIST(\n",
        "    root=\"data\",\n",
        "    train=True,\n",
        "    download=True,\n",
        "    transform=ToTensor(),\n",
        ")\n",
        "\n",
        "# Download test data from open datasets.\n",
        "test_data = datasets.MNIST(\n",
        "    root=\"data\",\n",
        "    train=False,\n",
        "    download=True,\n",
        "    transform=ToTensor(),\n",
        ")"
      ],
      "metadata": {
        "id": "aKFmwvX2tkjj"
      },
      "execution_count": 75,
      "outputs": []
    },
    {
      "cell_type": "code",
      "source": [
        "batch_size = 256\n",
        "\n",
        "# Create data loaders.\n",
        "train_dataloader = DataLoader(training_data, batch_size=batch_size)\n",
        "test_dataloader = DataLoader(test_data, batch_size=batch_size)\n",
        "\n",
        "for X, y in test_dataloader:\n",
        "    print(f\"Shape of X [N, C, H, W]: {X.shape}\")\n",
        "    print(f\"Shape of y: {y.shape} {y.dtype}\")\n",
        "    break"
      ],
      "metadata": {
        "colab": {
          "base_uri": "https://localhost:8080/"
        },
        "id": "_uOphvs1t5Oa",
        "outputId": "146e05fb-5e62-4f8e-dedd-94577802011d"
      },
      "execution_count": 76,
      "outputs": [
        {
          "output_type": "stream",
          "name": "stdout",
          "text": [
            "Shape of X [N, C, H, W]: torch.Size([256, 1, 28, 28])\n",
            "Shape of y: torch.Size([256]) torch.int64\n"
          ]
        }
      ]
    },
    {
      "cell_type": "code",
      "source": [
        "# Display image and label.\n",
        "train_features, train_labels = next(iter(train_dataloader))\n",
        "print(f\"Feature batch shape: {train_features.size()}\")\n",
        "print(f\"Labels batch shape: {train_labels.size()}\")\n",
        "img = train_features[0].squeeze()\n",
        "label = train_labels[0]\n",
        "plt.imshow(img, cmap=\"gray\")\n",
        "plt.show()\n",
        "print(f\"Label: {label}\")"
      ],
      "metadata": {
        "colab": {
          "base_uri": "https://localhost:8080/",
          "height": 482
        },
        "id": "y69Ag_uD5i1l",
        "outputId": "0d5c50bb-bc2e-46c7-8b4c-8001b98823c6"
      },
      "execution_count": 77,
      "outputs": [
        {
          "output_type": "stream",
          "name": "stdout",
          "text": [
            "Feature batch shape: torch.Size([256, 1, 28, 28])\n",
            "Labels batch shape: torch.Size([256])\n"
          ]
        },
        {
          "output_type": "display_data",
          "data": {
            "text/plain": [
              "<Figure size 640x480 with 1 Axes>"
            ],
            "image/png": "[encoded data removed]"
          },
          "metadata": {}
        },
        {
          "output_type": "stream",
          "name": "stdout",
          "text": [
            "Label: 5\n"
          ]
        }
      ]
    },
    {
      "cell_type": "code",
      "source": [
        "# Get cpu, gpu or mps device for training.\n",
        "device = (\n",
        "    \"cuda\"\n",
        "    if torch.cuda.is_available()\n",
        "    else \"mps\"\n",
        "    if torch.backends.mps.is_available()\n",
        "    else \"cpu\"\n",
        ")\n",
        "print(f\"Using {device} device\")\n",
        "\n",
        "# Define model\n",
        "class NeuralNetwork(nn.Module):\n",
        "    def __init__(self):\n",
        "        super().__init__()\n",
        "        self.flatten = nn.Flatten()\n",
        "        self.linear_relu_stack = nn.Sequential(\n",
        "            nn.Linear(28*28, 32),\n",
        "            nn.ReLU(),\n",
        "            nn.Linear(32, 32),\n",
        "            nn.ReLU(),\n",
        "            nn.Linear(32, 10)\n",
        "        )\n",
        "\n",
        "    def forward(self, x):\n",
        "        x = self.flatten(x)\n",
        "        logits = self.linear_relu_stack(x)\n",
        "        return logits\n",
        "\n",
        "model = NeuralNetwork().to(device)"
      ],
      "metadata": {
        "colab": {
          "base_uri": "https://localhost:8080/"
        },
        "id": "x1_BE2M6uHmp",
        "outputId": "7f492ba3-5684-4c65-d283-5f5f1fec890f"
      },
      "execution_count": 78,
      "outputs": [
        {
          "output_type": "stream",
          "name": "stdout",
          "text": [
            "Using cpu device\n",
            "NeuralNetwork(\n",
            "  (flatten): Flatten(start_dim=1, end_dim=-1)\n",
            "  (linear_relu_stack): Sequential(\n",
            "    (0): Linear(in_features=784, out_features=32, bias=True)\n",
            "    (1): ReLU()\n",
            "    (2): Linear(in_features=32, out_features=32, bias=True)\n",
            "    (3): ReLU()\n",
            "    (4): Linear(in_features=32, out_features=10, bias=True)\n",
            "  )\n",
            ")\n"
          ]
        }
      ]
    },
    {
      "cell_type": "code",
      "source": [
        "loss_fn = nn.CrossEntropyLoss()\n",
        "optimizer = torch.optim.SGD(model.parameters(), lr=0.1)"
      ],
      "metadata": {
        "id": "DgcgA27guw3-"
      },
      "execution_count": 79,
      "outputs": []
    },
    {
      "cell_type": "code",
      "source": [
        "def train(dataloader, model, loss_fn, optimizer):\n",
        "    size = len(dataloader.dataset)\n",
        "    model.train()\n",
        "    for batch, (X, y) in enumerate(dataloader):\n",
        "        X, y = X.to(device), y.to(device)\n",
        "\n",
        "        # Compute prediction error\n",
        "        pred = model(X)\n",
        "        loss = loss_fn(pred, y)\n",
        "\n",
        "        # Backpropagation\n",
        "        loss.backward()\n",
        "        optimizer.step()\n",
        "        optimizer.zero_grad()\n",
        "\n",
        "        if batch % 100 == 0:\n",
        "            loss, current = loss.item(), (batch + 1) * len(X)\n",
        "            print(f\"loss: {loss:>7f}  [{current:>5d}/{size:>5d}]\")\n",
        "\n",
        "def test(dataloader, model, loss_fn):\n",
        "    size = len(dataloader.dataset)\n",
        "    num_batches = len(dataloader)\n",
        "    model.eval()\n",
        "    test_loss, correct = 0, 0\n",
        "    with torch.no_grad():\n",
        "        for X, y in dataloader:\n",
        "            X, y = X.to(device), y.to(device)\n",
        "            pred = model(X)\n",
        "            test_loss += loss_fn(pred, y).item()\n",
        "            correct += (pred.argmax(1) == y).type(torch.float).sum().item()\n",
        "    test_loss /= num_batches\n",
        "    correct /= size\n",
        "    print(f\"Test Error: \\n Accuracy: {(100*correct):>0.1f}%, Avg loss: {test_loss:>8f} \\n\")"
      ],
      "metadata": {
        "id": "7k1XldTbvGrZ"
      },
      "execution_count": 80,
      "outputs": []
    },
    {
      "cell_type": "code",
      "source": [
        "epochs = 30\n",
        "for t in range(epochs):\n",
        "    print(f\"Epoch {t+1}\\n-------------------------------\")\n",
        "    train(train_dataloader, model, loss_fn, optimizer)\n",
        "    test(test_dataloader, model, loss_fn)\n",
        "print(\"Done!\")"
      ],
      "metadata": {
        "colab": {
          "base_uri": "https://localhost:8080/"
        },
        "id": "JrCNkmeJwtUa",
        "outputId": "4dba2edc-e52c-40d5-dc73-af9a76b318fb"
      },
      "execution_count": 81,
      "outputs": [
        {
          "output_type": "stream",
          "name": "stdout",
          "text": [
            "Epoch 1\n",
            "-------------------------------\n",
            "loss: 2.305537  [  256/60000]\n",
            "loss: 0.853647  [25856/60000]\n",
            "loss: 0.484860  [51456/60000]\n",
            "Test Error: \n",
            " Accuracy: 86.0%, Avg loss: 0.451653 \n",
            "\n",
            "Epoch 2\n",
            "-------------------------------\n",
            "loss: 0.461154  [  256/60000]\n",
            "loss: 0.325498  [25856/60000]\n",
            "loss: 0.313305  [51456/60000]\n",
            "Test Error: \n",
            " Accuracy: 90.1%, Avg loss: 0.331071 \n",
            "\n",
            "Epoch 3\n",
            "-------------------------------\n",
            "loss: 0.331058  [  256/60000]\n",
            "loss: 0.275164  [25856/60000]\n",
            "loss: 0.257981  [51456/60000]\n",
            "Test Error: \n",
            " Accuracy: 91.6%, Avg loss: 0.285721 \n",
            "\n",
            "Epoch 4\n",
            "-------------------------------\n",
            "loss: 0.278304  [  256/60000]\n",
            "loss: 0.252445  [25856/60000]\n",
            "loss: 0.223524  [51456/60000]\n",
            "Test Error: \n",
            " Accuracy: 92.5%, Avg loss: 0.256550 \n",
            "\n",
            "Epoch 5\n",
            "-------------------------------\n",
            "loss: 0.245452  [  256/60000]\n",
            "loss: 0.232118  [25856/60000]\n",
            "loss: 0.192011  [51456/60000]\n",
            "Test Error: \n",
            " Accuracy: 93.0%, Avg loss: 0.236067 \n",
            "\n",
            "Epoch 6\n",
            "-------------------------------\n",
            "loss: 0.227204  [  256/60000]\n",
            "loss: 0.215705  [25856/60000]\n",
            "loss: 0.172163  [51456/60000]\n",
            "Test Error: \n",
            " Accuracy: 93.2%, Avg loss: 0.222087 \n",
            "\n",
            "Epoch 7\n",
            "-------------------------------\n",
            "loss: 0.216634  [  256/60000]\n",
            "loss: 0.202063  [25856/60000]\n",
            "loss: 0.161825  [51456/60000]\n",
            "Test Error: \n",
            " Accuracy: 93.7%, Avg loss: 0.208458 \n",
            "\n",
            "Epoch 8\n",
            "-------------------------------\n",
            "loss: 0.205572  [  256/60000]\n",
            "loss: 0.189402  [25856/60000]\n",
            "loss: 0.151240  [51456/60000]\n",
            "Test Error: \n",
            " Accuracy: 94.0%, Avg loss: 0.194681 \n",
            "\n",
            "Epoch 9\n",
            "-------------------------------\n",
            "loss: 0.193251  [  256/60000]\n",
            "loss: 0.177049  [25856/60000]\n",
            "loss: 0.141961  [51456/60000]\n",
            "Test Error: \n",
            " Accuracy: 94.5%, Avg loss: 0.182785 \n",
            "\n",
            "Epoch 10\n",
            "-------------------------------\n",
            "loss: 0.181873  [  256/60000]\n",
            "loss: 0.165843  [25856/60000]\n",
            "loss: 0.134986  [51456/60000]\n",
            "Test Error: \n",
            " Accuracy: 94.7%, Avg loss: 0.171854 \n",
            "\n",
            "Epoch 11\n",
            "-------------------------------\n",
            "loss: 0.169739  [  256/60000]\n",
            "loss: 0.157053  [25856/60000]\n",
            "loss: 0.128605  [51456/60000]\n",
            "Test Error: \n",
            " Accuracy: 95.1%, Avg loss: 0.163144 \n",
            "\n",
            "Epoch 12\n",
            "-------------------------------\n",
            "loss: 0.159875  [  256/60000]\n",
            "loss: 0.150639  [25856/60000]\n",
            "loss: 0.123034  [51456/60000]\n",
            "Test Error: \n",
            " Accuracy: 95.3%, Avg loss: 0.155986 \n",
            "\n",
            "Epoch 13\n",
            "-------------------------------\n",
            "loss: 0.151693  [  256/60000]\n",
            "loss: 0.144253  [25856/60000]\n",
            "loss: 0.119284  [51456/60000]\n",
            "Test Error: \n",
            " Accuracy: 95.5%, Avg loss: 0.150160 \n",
            "\n",
            "Epoch 14\n",
            "-------------------------------\n",
            "loss: 0.143852  [  256/60000]\n",
            "loss: 0.137687  [25856/60000]\n",
            "loss: 0.116109  [51456/60000]\n",
            "Test Error: \n",
            " Accuracy: 95.7%, Avg loss: 0.144783 \n",
            "\n",
            "Epoch 15\n",
            "-------------------------------\n",
            "loss: 0.137283  [  256/60000]\n",
            "loss: 0.131323  [25856/60000]\n",
            "loss: 0.112501  [51456/60000]\n",
            "Test Error: \n",
            " Accuracy: 95.7%, Avg loss: 0.141130 \n",
            "\n",
            "Epoch 16\n",
            "-------------------------------\n",
            "loss: 0.132536  [  256/60000]\n",
            "loss: 0.124629  [25856/60000]\n",
            "loss: 0.107955  [51456/60000]\n",
            "Test Error: \n",
            " Accuracy: 95.7%, Avg loss: 0.137708 \n",
            "\n",
            "Epoch 17\n",
            "-------------------------------\n",
            "loss: 0.126968  [  256/60000]\n",
            "loss: 0.119970  [25856/60000]\n",
            "loss: 0.103946  [51456/60000]\n",
            "Test Error: \n",
            " Accuracy: 95.9%, Avg loss: 0.134288 \n",
            "\n",
            "Epoch 18\n",
            "-------------------------------\n",
            "loss: 0.121742  [  256/60000]\n",
            "loss: 0.115271  [25856/60000]\n",
            "loss: 0.100807  [51456/60000]\n",
            "Test Error: \n",
            " Accuracy: 96.1%, Avg loss: 0.129579 \n",
            "\n",
            "Epoch 19\n",
            "-------------------------------\n",
            "loss: 0.115870  [  256/60000]\n",
            "loss: 0.111385  [25856/60000]\n",
            "loss: 0.097749  [51456/60000]\n",
            "Test Error: \n",
            " Accuracy: 96.0%, Avg loss: 0.129810 \n",
            "\n",
            "Epoch 20\n",
            "-------------------------------\n",
            "loss: 0.113300  [  256/60000]\n",
            "loss: 0.107498  [25856/60000]\n",
            "loss: 0.095115  [51456/60000]\n",
            "Test Error: \n",
            " Accuracy: 96.2%, Avg loss: 0.125192 \n",
            "\n",
            "Epoch 21\n",
            "-------------------------------\n",
            "loss: 0.108511  [  256/60000]\n",
            "loss: 0.104535  [25856/60000]\n",
            "loss: 0.093019  [51456/60000]\n",
            "Test Error: \n",
            " Accuracy: 96.1%, Avg loss: 0.123630 \n",
            "\n",
            "Epoch 22\n",
            "-------------------------------\n",
            "loss: 0.105119  [  256/60000]\n",
            "loss: 0.101949  [25856/60000]\n",
            "loss: 0.091050  [51456/60000]\n",
            "Test Error: \n",
            " Accuracy: 96.3%, Avg loss: 0.124125 \n",
            "\n",
            "Epoch 23\n",
            "-------------------------------\n",
            "loss: 0.102794  [  256/60000]\n",
            "loss: 0.099136  [25856/60000]\n",
            "loss: 0.089435  [51456/60000]\n",
            "Test Error: \n",
            " Accuracy: 96.2%, Avg loss: 0.120230 \n",
            "\n",
            "Epoch 24\n",
            "-------------------------------\n",
            "loss: 0.097055  [  256/60000]\n",
            "loss: 0.095773  [25856/60000]\n",
            "loss: 0.089179  [51456/60000]\n",
            "Test Error: \n",
            " Accuracy: 96.3%, Avg loss: 0.119142 \n",
            "\n",
            "Epoch 25\n",
            "-------------------------------\n",
            "loss: 0.093507  [  256/60000]\n",
            "loss: 0.093008  [25856/60000]\n",
            "loss: 0.088072  [51456/60000]\n",
            "Test Error: \n",
            " Accuracy: 96.4%, Avg loss: 0.117486 \n",
            "\n",
            "Epoch 26\n",
            "-------------------------------\n",
            "loss: 0.089682  [  256/60000]\n",
            "loss: 0.090036  [25856/60000]\n",
            "loss: 0.087311  [51456/60000]\n",
            "Test Error: \n",
            " Accuracy: 96.4%, Avg loss: 0.119187 \n",
            "\n",
            "Epoch 27\n",
            "-------------------------------\n",
            "loss: 0.087245  [  256/60000]\n",
            "loss: 0.086985  [25856/60000]\n",
            "loss: 0.085682  [51456/60000]\n",
            "Test Error: \n",
            " Accuracy: 96.5%, Avg loss: 0.115722 \n",
            "\n",
            "Epoch 28\n",
            "-------------------------------\n",
            "loss: 0.083685  [  256/60000]\n",
            "loss: 0.084379  [25856/60000]\n",
            "loss: 0.084060  [51456/60000]\n",
            "Test Error: \n",
            " Accuracy: 96.6%, Avg loss: 0.113534 \n",
            "\n",
            "Epoch 29\n",
            "-------------------------------\n",
            "loss: 0.080326  [  256/60000]\n",
            "loss: 0.081533  [25856/60000]\n",
            "loss: 0.082462  [51456/60000]\n",
            "Test Error: \n",
            " Accuracy: 96.5%, Avg loss: 0.114500 \n",
            "\n",
            "Epoch 30\n",
            "-------------------------------\n",
            "loss: 0.078745  [  256/60000]\n",
            "loss: 0.078669  [25856/60000]\n",
            "loss: 0.081408  [51456/60000]\n",
            "Test Error: \n",
            " Accuracy: 96.5%, Avg loss: 0.119202 \n",
            "\n",
            "Done!\n"
          ]
        }
      ]
    }
  ]
}